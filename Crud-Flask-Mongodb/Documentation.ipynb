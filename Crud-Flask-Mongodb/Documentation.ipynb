{
 "cells": [
  {
   "attachments": {},
   "cell_type": "markdown",
   "metadata": {},
   "source": [
    "# Crud python flask mongodb\n",
    "\n",
    "## Requisitos previos\n",
    "\n",
    "* [Python](https://www.python.org/downloads/)\n",
    "* [MongoDB](https://www.mongodb.com/try/download/community)\n",
    "* [Postman](https://www.postman.com/downloads/)\n",
    "* [Git](https://git-scm.com/downloads)\n",
    "\n",
    "\n",
    "## Creacion de base de datos (Cluster)\n",
    "\n",
    "* Crear una cuenta en [MongoDB](https://www.mongodb.com/cloud/atlas/register)\n",
    "\n",
    "1. Creamos un nuevo proyecto y le damos un nombre\n",
    "\n",
    "![](img/Project.png)\n",
    "\n",
    "2. Creamos un nuevo cluster y seleccionamos la opcion gratuita (M0) y la region que nos quede mas cerca\n",
    "\n",
    "![](img/Data%20Base.png)\n",
    "\n",
    "3. Creamos un usuario y contraseña para la base de datos (guardarlos en un lugar seguro)\n",
    "\n",
    "![](img/User%20aunthentication.png)\n",
    "\n",
    "\n",
    "3. Indicamos nuestra IP actual para que nos permita conectarnos a la base de datos y si queremos agregamos IP para que otras personas puedan conectarse a la base de datos\n",
    "\n",
    "![](img/Ip%20Address.png)"
   ]
  }
 ],
 "metadata": {
  "language_info": {
   "name": "python"
  },
  "orig_nbformat": 4
 },
 "nbformat": 4,
 "nbformat_minor": 2
}
