{
 "cells": [
  {
   "attachments": {},
   "cell_type": "markdown",
   "metadata": {},
   "source": [
    "# Creando Fanzil con el framework de Python Flask\n",
    "\n",
    "## Requisitos\n",
    "\n",
    "* Tener instalado Python 3.6 o superior en el equipo: https://www.python.org/downloads/\n",
    "\n",
    "* Comprobamos la correcta instalación de Python con el comando: `python --version` y `pip --version`\n",
    "\n",
    "![](Imagenes/Versiones.png)\n",
    "\n",
    "1. Crear un entorno virtual para el proyecto: `virtualenv -p python3 env`\n",
    "\n",
    "![](Imagenes/Virtualenv.png)\n",
    "\n",
    "2. Activar el entorno virtual: `./env/bin/activate`\n",
    "\n",
    "![](Imagenes/Activate%20Virtualenv.png)\n",
    "\n",
    "3. Instalar Flask: `pip install flask`\n",
    "\n",
    "* Comprobamos la correcta instalación de Flask con el comando: `flask --version` o mostrando la lista de paquetes instalados: `pip list`\n",
    "\n",
    "![](Imagenes/Flask%20install.png)\n",
    "\n",
    "4. Correremos la aplicación con el comando: `python .\\app\\app.py`\n",
    "\n",
    "![](Imagenes/Run%20app.png)"
   ]
  }
 ],
 "metadata": {
  "language_info": {
   "name": "python"
  },
  "orig_nbformat": 4
 },
 "nbformat": 4,
 "nbformat_minor": 2
}
