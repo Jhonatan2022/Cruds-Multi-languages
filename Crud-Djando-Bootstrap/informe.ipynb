{
 "cells": [
  {
   "attachments": {},
   "cell_type": "markdown",
   "metadata": {},
   "source": [
    "# Crud con Django y Bootstrap\n",
    "\n",
    "## Requisitos previos\n",
    "\n",
    "* Python instalado: [Python](https://www.python.org/downloads/)\n",
    "\n",
    "\n",
    "# Web Utilizadas\n",
    "\n",
    "* [Bootstrap](https://getbootstrap.com/)\n",
    "* [Django](https://www.djangoproject.com/)\n",
    "* [Datatables](https://datatables.net/)\n",
    "* [JsonFormatter](https://jsonformatter.curiousconcept.com/)"
   ]
  }
 ],
 "metadata": {
  "language_info": {
   "name": "python"
  },
  "orig_nbformat": 4
 },
 "nbformat": 4,
 "nbformat_minor": 2
}
