{
 "cells": [
  {
   "attachments": {},
   "cell_type": "markdown",
   "metadata": {},
   "source": [
    "# Creando Micro Crud Con Flask y MongoDB\n",
    "\n",
    "## Requisitos\n",
    "\n",
    "* Python Instalado: [Python](https://www.python.org/downloads/)\n",
    "* Nodejs Instalado: [Nodejs](https://nodejs.org/es/download/)\n",
    "* MongoDB Instalado: [MongoDB](https://www.mongodb.com/try/download/community)"
   ]
  }
 ],
 "metadata": {
  "language_info": {
   "name": "python"
  },
  "orig_nbformat": 4
 },
 "nbformat": 4,
 "nbformat_minor": 2
}
