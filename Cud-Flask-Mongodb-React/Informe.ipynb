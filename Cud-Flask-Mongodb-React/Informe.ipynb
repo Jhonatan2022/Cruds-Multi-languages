{
 "cells": [
  {
   "attachments": {},
   "cell_type": "markdown",
   "metadata": {},
   "source": [
    "# Creando Micro Crud Con Flask y MongoDB\n",
    "\n",
    "## Requisitos\n",
    "\n",
    "* Python Instalado: [Python](https://www.python.org/downloads/)\n",
    "* MongoDB Instalado: [MongoDB](https://www.mongodb.com/try/download/community)"
   ]
  },
  {
   "attachments": {},
   "cell_type": "markdown",
   "metadata": {},
   "source": [
    "## Aplicaciones Usadas\n",
    "\n",
    "* [Postman](https://www.postman.com/downloads/)\n",
    "* [MongoDB](https://www.mongodb.com/try/download/community)"
   ]
  }
 ],
 "metadata": {
  "language_info": {
   "name": "python"
  },
  "orig_nbformat": 4
 },
 "nbformat": 4,
 "nbformat_minor": 2
}
