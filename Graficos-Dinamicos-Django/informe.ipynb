{
 "cells": [
  {
   "attachments": {},
   "cell_type": "markdown",
   "metadata": {},
   "source": [
    "# Gráficos dinámicos con Django y Apache ECharts\n",
    "## Requisitos\n",
    "* Python instalado: [python](https://www.python.org/downloads/)\n",
    "## Webs Usadas\n",
    "* [Bootstrap](https://getbootstrap.com/)\n",
    "* [Apache ECharts](https://echarts.apache.org/en/index.html)\n",
    "* [Django](https://www.djangoproject.com/)"
   ]
  }
 ],
 "metadata": {
  "language_info": {
   "name": "python"
  },
  "orig_nbformat": 4
 },
 "nbformat": 4,
 "nbformat_minor": 2
}
